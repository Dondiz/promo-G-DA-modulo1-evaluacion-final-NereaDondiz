{
 "cells": [
  {
   "cell_type": "code",
   "execution_count": 1,
   "metadata": {},
   "outputs": [],
   "source": [
    "class TiendaOnline:\n",
    "\n",
    "    def __init__(self):\n",
    "        self.inventario = []\n",
    "        self.clientes= {}\n",
    "        self.ventas = 0.0\n",
    "\n",
    "    def agregar_producto(self, nombre, precio, cantidad):\n",
    "    \n",
    "        for producto in self.inventario:\n",
    "            if producto[\"nombre\"] == nombre:\n",
    "                producto[\"cantidad\"] += cantidad\n",
    "                print(f\"La cantidad de {nombre} se ha añadido en {cantidad} unidades\")\n",
    "                return\n",
    "\n",
    "        nuevo_producto = {'nombre': nombre, 'precio': precio, 'cantidad': cantidad}  \n",
    "        self.inventario.append(nuevo_producto)\n",
    "        print(f\"Se ha añadido la {nombre} con un {precio} euros y {cantidad} unidades al inventario\")\n",
    "\n",
    "    def ver_inventario(self):\n",
    "\n",
    "        for producto in self.inventario:\n",
    "             print(f\"Nombre: {producto['nombre']}, Precio: {producto['precio']}, Cantidad: {producto['cantidad']}\")\n",
    "\n",
    "    def buscar_producto(self, nombre):\n",
    "        for producto in self.inventario:\n",
    "            if producto[\"nombre\"] == nombre:\n",
    "                print(f\"Nombre: {producto['nombre']}, Precio: {producto['precio']}, Cantidad: {producto['cantidad']}\")\n",
    "                break\n",
    "        if producto[\"nombre\"] != nombre:\n",
    "            print(\"El producto no existe\")\n",
    "\n",
    "    def actualizar_stock(self, nombre, cantidad):\n",
    "        for producto in self.inventario:\n",
    "            if producto[\"nombre\"] == nombre:\n",
    "                nueva_cantidad = int(input(\"¿Qué cantidad quieres introducir?\"))\n",
    "                if producto[\"cantidad\"] != nueva_cantidad:\n",
    "                    producto[\"cantidad\"] = nueva_cantidad\n",
    "                    print(f\"La cantidad ha variado y ahora es de {nueva_cantidad} unidades\")\n",
    "                    break\n",
    "    def eliminar_producto(self, nombre):\n",
    "        for producto in self.inventario:\n",
    "            if producto[\"nombre\"] == nombre:\n",
    "                self.inventario.remove(producto)\n",
    "                print(f\"El artículo {producto} ha sido eliminado del stock\")\n",
    "                break\n",
    "        \n",
    "        else:    \n",
    "            print(\"El producto no existe en el inventario\")\n",
    "\n",
    "    def calcular_valor_inventario(self):\n",
    "        valor_total= 0\n",
    "        for producto in self.inventario:\n",
    "            valor_producto = producto[\"cantidad\"] * producto[\"precio\"]\n",
    "            valor_total += valor_producto\n",
    "            print(f\"el valor total del inventario es de {valor_total}\")\n",
    "    def realizar_compra(self):\n",
    "        carrito = []\n",
    "        costo_total = 0\n",
    "\n",
    "        while True:\n",
    "            self.ver_inventario()\n",
    "            nombre_producto = input(\"¿Qué producto quieres comprar?\").lower()\n",
    "            for producto in self.inventario:\n",
    "                if producto[\"nombre\"] == nombre_producto:\n",
    "                    cantidad = int(input(f\"Ingrese la cantidad de {nombre_producto} que desea comprar: \"))\n",
    "                    if cantidad <= producto[\"cantidad\"]:\n",
    "                        carrito.append({\"producto\": nombre_producto, \"cantidad\" : cantidad})\n",
    "                        costo_compra = producto[\"precio\"] * producto[\"cantidad\"]\n",
    "                        costo_total += costo_compra\n",
    "                        producto[\"cantidad\"] -= cantidad\n",
    "                        print(f\" {nombre_producto}: {cantidad} han sido añadidos a su carrito\")\n",
    "               \n",
    "                    else:\n",
    "                        print(f\"No hay suficiente cantidad de {nombre_producto}\")\n",
    "                    \n",
    "                    break\n",
    "            else:\n",
    "                print(f\"El {nombre_producto} que ud. busca no se encuentara en el inventario\")\n",
    "\n",
    "\n",
    "            continuar = input(\"¿Desea seguir comprando? Sí o No: \").lower()\n",
    "            if continuar != \"si\":\n",
    "                break\n",
    "\n",
    "\n",
    "        print(f\"\\nCosto total de la compra: {costo_total} euros\\nProductos en el carrito:\")\n",
    "\n",
    "        for item in carrito:\n",
    "            print(f\"{item['cantidad']} unidades de {item['producto']}\")\n",
    "\n",
    "    def procesar_pago(self):\n",
    "        try:\n",
    "            total_pagar = float(input(\"Ingrese la cantidad total a pagar:\"))\n",
    "            cantidad_pago = float(input(\"Ingrese su cantidad: \"))\n",
    "\n",
    "            if cantidad_pago >= total_pagar:\n",
    "                cambio = cantidad_pago - total_pagar\n",
    "                print(f\"Pago realizado con éxito. Su cambio es de {cambio} euros\")\n",
    "\n",
    "            else:\n",
    "                print(\"El importe es insuficiente\")\n",
    "\n",
    "        except ValueError:\n",
    "            print(\"La cantidad introducida es errónea\")\n",
    "\n",
    "    def agregar_cliente(self, nombre, email):\n",
    "        if nombre not in self.clientes:\n",
    "            self.clientes[nombre] = {\"email\": email}\n",
    "            print(f\"El cliente: {nombre} con el email: {email} se ha añadido al registro\")\n",
    "        else:\n",
    "            print(f\"El cliente {nombre} ya existe en el registro.\")\n",
    "            \n",
    "    def ver_clientes(self):\n",
    "        for nombre, email in self.clientes.items():\n",
    "            print(f\"Nombre: {nombre} y Email: {email}\")"
   ]
  },
  {
   "cell_type": "code",
   "execution_count": null,
   "metadata": {},
   "outputs": [],
   "source": [
    "# a partir de aquí se ha intentado pero...."
   ]
  },
  {
   "cell_type": "code",
   "execution_count": null,
   "metadata": {},
   "outputs": [],
   "source": [
    "    def registrar_compra(self, nombre_cliente, carrito):\n",
    "        total_compra = 0\n",
    "        datos_compra = []\n",
    "        if cliente not in self.cliente:\n",
    "            print(\"No se puede realizar la acción. El cliente no está en el diccionario\")\n",
    "        for k, v in carrito.items():\n",
    "            compra = precio * cantidad\n",
    "            datos_compra.append({\"producto\": producto, \"precio\": precio, \"cantidad\": cantidad, \"total_producto\": total_producto})\n",
    "            total_compra += total_producto\n",
    "\n",
    "\n",
    "    def ver_compras_cliente(self, nombre_cliente):\n",
    "        for cliente in self.clientes():"
   ]
  },
  {
   "cell_type": "code",
   "execution_count": null,
   "metadata": {},
   "outputs": [],
   "source": [
    "# Crear una instancia de la tienda"
   ]
  },
  {
   "cell_type": "code",
   "execution_count": 2,
   "metadata": {},
   "outputs": [],
   "source": [
    "mi_tienda = TiendaOnline()"
   ]
  },
  {
   "cell_type": "code",
   "execution_count": null,
   "metadata": {},
   "outputs": [],
   "source": [
    "# Agregar productos al inventario"
   ]
  },
  {
   "cell_type": "code",
   "execution_count": 3,
   "metadata": {},
   "outputs": [
    {
     "name": "stdout",
     "output_type": "stream",
     "text": [
      "Se ha añadido la polo con un 20 euros y 50 unidades al inventario\n",
      "Se ha añadido la camisa con un 30 euros y 30 unidades al inventario\n",
      "Se ha añadido la jersey con un 50 euros y 40 unidades al inventario\n"
     ]
    }
   ],
   "source": [
    "mi_tienda.agregar_producto(\"polo\", 20, 50)\n",
    "mi_tienda.agregar_producto(\"camisa\", 30, 30)\n",
    "mi_tienda.agregar_producto(\"jersey\", 50, 40)"
   ]
  },
  {
   "cell_type": "code",
   "execution_count": 4,
   "metadata": {},
   "outputs": [
    {
     "data": {
      "text/plain": [
       "[{'nombre': 'polo', 'precio': 20, 'cantidad': 50},\n",
       " {'nombre': 'camisa', 'precio': 30, 'cantidad': 30},\n",
       " {'nombre': 'jersey', 'precio': 50, 'cantidad': 40}]"
      ]
     },
     "execution_count": 4,
     "metadata": {},
     "output_type": "execute_result"
    }
   ],
   "source": [
    "mi_tienda.inventario"
   ]
  },
  {
   "cell_type": "code",
   "execution_count": 5,
   "metadata": {},
   "outputs": [
    {
     "name": "stdout",
     "output_type": "stream",
     "text": [
      "Se ha añadido la blazer con un 60 euros y 3 unidades al inventario\n"
     ]
    }
   ],
   "source": [
    "mi_tienda.agregar_producto(\"blazer\", 60, 3)"
   ]
  },
  {
   "cell_type": "code",
   "execution_count": null,
   "metadata": {},
   "outputs": [],
   "source": [
    "# Mostrar el inventario"
   ]
  },
  {
   "cell_type": "code",
   "execution_count": 7,
   "metadata": {},
   "outputs": [
    {
     "name": "stdout",
     "output_type": "stream",
     "text": [
      "Nombre: polo, Precio: 20, Cantidad: 50\n",
      "Nombre: camisa, Precio: 30, Cantidad: 30\n",
      "Nombre: jersey, Precio: 50, Cantidad: 40\n",
      "Nombre: blazer, Precio: 60, Cantidad: 3\n"
     ]
    }
   ],
   "source": [
    "mi_tienda.ver_inventario()"
   ]
  },
  {
   "cell_type": "code",
   "execution_count": null,
   "metadata": {},
   "outputs": [],
   "source": [
    "# Buscar un producto"
   ]
  },
  {
   "cell_type": "code",
   "execution_count": 9,
   "metadata": {},
   "outputs": [
    {
     "name": "stdout",
     "output_type": "stream",
     "text": [
      "El producto no existe\n"
     ]
    }
   ],
   "source": [
    "mi_tienda.buscar_producto(\"abrigo\")"
   ]
  },
  {
   "cell_type": "code",
   "execution_count": null,
   "metadata": {},
   "outputs": [],
   "source": []
  },
  {
   "cell_type": "code",
   "execution_count": null,
   "metadata": {},
   "outputs": [],
   "source": [
    "# Actualizar el stock de un producto"
   ]
  },
  {
   "cell_type": "code",
   "execution_count": null,
   "metadata": {},
   "outputs": [],
   "source": [
    "mi_tienda.actualizar_stock(\"camisa\", 60)"
   ]
  },
  {
   "cell_type": "code",
   "execution_count": null,
   "metadata": {},
   "outputs": [],
   "source": [
    "mi_tienda.ver_inventario()"
   ]
  },
  {
   "cell_type": "code",
   "execution_count": null,
   "metadata": {},
   "outputs": [],
   "source": [
    "# Eliminar un producto del inventario"
   ]
  },
  {
   "cell_type": "code",
   "execution_count": null,
   "metadata": {},
   "outputs": [],
   "source": [
    "mi_tienda.eliminar_producto(\"polo\")"
   ]
  },
  {
   "cell_type": "code",
   "execution_count": null,
   "metadata": {},
   "outputs": [],
   "source": [
    "mi_tienda.ver_inventario()"
   ]
  },
  {
   "cell_type": "code",
   "execution_count": null,
   "metadata": {},
   "outputs": [],
   "source": [
    "# Calcular y mostrar el valor total del inventario"
   ]
  },
  {
   "cell_type": "code",
   "execution_count": null,
   "metadata": {},
   "outputs": [],
   "source": [
    "mi_tienda.calcular_valor_inventario()"
   ]
  },
  {
   "cell_type": "code",
   "execution_count": null,
   "metadata": {},
   "outputs": [],
   "source": [
    "# Realizar una compra"
   ]
  },
  {
   "cell_type": "code",
   "execution_count": 10,
   "metadata": {},
   "outputs": [
    {
     "name": "stdout",
     "output_type": "stream",
     "text": [
      "Nombre: polo, Precio: 20, Cantidad: 50\n",
      "Nombre: camisa, Precio: 30, Cantidad: 30\n",
      "Nombre: jersey, Precio: 50, Cantidad: 40\n",
      "Nombre: blazer, Precio: 60, Cantidad: 3\n",
      " polo: 6 han sido añadidos a su carrito\n",
      "Nombre: polo, Precio: 20, Cantidad: 44\n",
      "Nombre: camisa, Precio: 30, Cantidad: 30\n",
      "Nombre: jersey, Precio: 50, Cantidad: 40\n",
      "Nombre: blazer, Precio: 60, Cantidad: 3\n",
      " blazer: 3 han sido añadidos a su carrito\n",
      "\n",
      "Costo total de la compra: 1180 euros\n",
      "Productos en el carrito:\n",
      "6 unidades de polo\n",
      "3 unidades de blazer\n"
     ]
    }
   ],
   "source": [
    "mi_tienda.realizar_compra()"
   ]
  },
  {
   "cell_type": "code",
   "execution_count": null,
   "metadata": {},
   "outputs": [],
   "source": [
    "# Procesar el pago"
   ]
  },
  {
   "cell_type": "code",
   "execution_count": null,
   "metadata": {},
   "outputs": [],
   "source": [
    "mi_tienda.procesar_pago()"
   ]
  },
  {
   "cell_type": "code",
   "execution_count": null,
   "metadata": {},
   "outputs": [],
   "source": [
    "# Ejecutar agregar_cliente"
   ]
  },
  {
   "cell_type": "code",
   "execution_count": null,
   "metadata": {},
   "outputs": [],
   "source": [
    "mi_tienda.agregar_cliente(\"Nerea Dondiz\", \"nereadondiz@gmail.com\")"
   ]
  },
  {
   "cell_type": "code",
   "execution_count": null,
   "metadata": {},
   "outputs": [],
   "source": [
    "# Ejecutar ver_cliente"
   ]
  },
  {
   "cell_type": "code",
   "execution_count": null,
   "metadata": {},
   "outputs": [],
   "source": [
    "mi_tienda.ver_clientes()"
   ]
  }
 ],
 "metadata": {
  "kernelspec": {
   "display_name": "base",
   "language": "python",
   "name": "python3"
  },
  "language_info": {
   "codemirror_mode": {
    "name": "ipython",
    "version": 3
   },
   "file_extension": ".py",
   "mimetype": "text/x-python",
   "name": "python",
   "nbconvert_exporter": "python",
   "pygments_lexer": "ipython3",
   "version": "3.9.12"
  }
 },
 "nbformat": 4,
 "nbformat_minor": 2
}
